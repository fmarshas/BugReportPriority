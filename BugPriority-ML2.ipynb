{
 "cells": [
  {
   "cell_type": "markdown",
   "id": "f6be42b2-3f35-4adb-9df0-c6c347f41a26",
   "metadata": {
    "tags": [],
    "user_expressions": []
   },
   "source": [
    "# ML2 Final Test"
   ]
  },
  {
   "cell_type": "markdown",
   "id": "df52bbdc-5016-41b4-9cfa-00c55e91ab3f",
   "metadata": {
    "tags": [],
    "user_expressions": []
   },
   "source": [
    "### Install Libraries"
   ]
  },
  {
   "cell_type": "code",
   "execution_count": 2,
   "id": "82f03c3d-8879-41e4-9c0b-8436a7a1b948",
   "metadata": {
    "collapsed": true,
    "jupyter": {
     "outputs_hidden": true
    },
    "tags": []
   },
   "outputs": [
    {
     "name": "stdout",
     "output_type": "stream",
     "text": [
      "Defaulting to user installation because normal site-packages is not writeable\n",
      "Requirement already satisfied: pandas in /usr/local/lib/python3.8/dist-packages (2.0.3)\n",
      "Requirement already satisfied: numpy in /usr/local/lib/python3.8/dist-packages (1.23.1)\n",
      "Requirement already satisfied: scikit-learn in /usr/local/lib/python3.8/dist-packages (1.3.2)\n",
      "Requirement already satisfied: transformers in /home/jovyan/.local/lib/python3.8/site-packages (4.46.3)\n",
      "Requirement already satisfied: torch in /home/jovyan/.local/lib/python3.8/site-packages (2.4.1)\n",
      "Requirement already satisfied: lightgbm in /home/jovyan/.local/lib/python3.8/site-packages (4.5.0)\n",
      "Requirement already satisfied: xgboost in /usr/local/lib/python3.8/dist-packages (2.0.3)\n",
      "Requirement already satisfied: tensorflow in /usr/local/lib/python3.8/dist-packages (2.11.0)\n",
      "Requirement already satisfied: datasets in /home/jovyan/.local/lib/python3.8/site-packages (3.1.0)\n",
      "Requirement already satisfied: seaborn in /home/jovyan/.local/lib/python3.8/site-packages (0.13.2)\n",
      "Requirement already satisfied: matplotlib in /usr/local/lib/python3.8/dist-packages (3.7.5)\n",
      "Requirement already satisfied: sentence-transformers in /home/jovyan/.local/lib/python3.8/site-packages (3.2.1)\n",
      "Requirement already satisfied: python-dateutil>=2.8.2 in /usr/local/lib/python3.8/dist-packages (from pandas) (2.9.0.post0)\n",
      "Requirement already satisfied: pytz>=2020.1 in /usr/local/lib/python3.8/dist-packages (from pandas) (2024.1)\n",
      "Requirement already satisfied: tzdata>=2022.1 in /usr/local/lib/python3.8/dist-packages (from pandas) (2024.1)\n",
      "Requirement already satisfied: scipy>=1.5.0 in /usr/local/lib/python3.8/dist-packages (from scikit-learn) (1.10.1)\n",
      "Requirement already satisfied: joblib>=1.1.1 in /usr/local/lib/python3.8/dist-packages (from scikit-learn) (1.4.0)\n",
      "Requirement already satisfied: threadpoolctl>=2.0.0 in /usr/local/lib/python3.8/dist-packages (from scikit-learn) (3.4.0)\n",
      "Requirement already satisfied: filelock in /home/jovyan/.local/lib/python3.8/site-packages (from transformers) (3.16.1)\n",
      "Requirement already satisfied: huggingface-hub<1.0,>=0.23.2 in /home/jovyan/.local/lib/python3.8/site-packages (from transformers) (0.27.1)\n",
      "Requirement already satisfied: packaging>=20.0 in /usr/local/lib/python3.8/dist-packages (from transformers) (24.0)\n",
      "Requirement already satisfied: pyyaml>=5.1 in /usr/local/lib/python3.8/dist-packages (from transformers) (6.0.1)\n",
      "Requirement already satisfied: regex!=2019.12.17 in /home/jovyan/.local/lib/python3.8/site-packages (from transformers) (2024.11.6)\n",
      "Requirement already satisfied: requests in /home/jovyan/.local/lib/python3.8/site-packages (from transformers) (2.32.3)\n",
      "Requirement already satisfied: tokenizers<0.21,>=0.20 in /home/jovyan/.local/lib/python3.8/site-packages (from transformers) (0.20.3)\n",
      "Requirement already satisfied: safetensors>=0.4.1 in /home/jovyan/.local/lib/python3.8/site-packages (from transformers) (0.5.2)\n",
      "Requirement already satisfied: tqdm>=4.27 in /home/jovyan/.local/lib/python3.8/site-packages (from transformers) (4.67.1)\n",
      "Requirement already satisfied: typing-extensions>=4.8.0 in /usr/local/lib/python3.8/dist-packages (from torch) (4.11.0)\n",
      "Requirement already satisfied: sympy in /usr/local/lib/python3.8/dist-packages (from torch) (1.12)\n",
      "Requirement already satisfied: networkx in /usr/local/lib/python3.8/dist-packages (from torch) (3.1)\n",
      "Requirement already satisfied: jinja2 in /usr/local/lib/python3.8/dist-packages (from torch) (3.1.3)\n",
      "Requirement already satisfied: fsspec in /usr/local/lib/python3.8/dist-packages (from torch) (2024.3.1)\n",
      "Requirement already satisfied: nvidia-cuda-nvrtc-cu12==12.1.105 in /home/jovyan/.local/lib/python3.8/site-packages (from torch) (12.1.105)\n",
      "Requirement already satisfied: nvidia-cuda-runtime-cu12==12.1.105 in /home/jovyan/.local/lib/python3.8/site-packages (from torch) (12.1.105)\n",
      "Requirement already satisfied: nvidia-cuda-cupti-cu12==12.1.105 in /home/jovyan/.local/lib/python3.8/site-packages (from torch) (12.1.105)\n",
      "Requirement already satisfied: nvidia-cudnn-cu12==9.1.0.70 in /home/jovyan/.local/lib/python3.8/site-packages (from torch) (9.1.0.70)\n",
      "Requirement already satisfied: nvidia-cublas-cu12==12.1.3.1 in /home/jovyan/.local/lib/python3.8/site-packages (from torch) (12.1.3.1)\n",
      "Requirement already satisfied: nvidia-cufft-cu12==11.0.2.54 in /home/jovyan/.local/lib/python3.8/site-packages (from torch) (11.0.2.54)\n",
      "Requirement already satisfied: nvidia-curand-cu12==10.3.2.106 in /home/jovyan/.local/lib/python3.8/site-packages (from torch) (10.3.2.106)\n",
      "Requirement already satisfied: nvidia-cusolver-cu12==11.4.5.107 in /home/jovyan/.local/lib/python3.8/site-packages (from torch) (11.4.5.107)\n",
      "Requirement already satisfied: nvidia-cusparse-cu12==12.1.0.106 in /home/jovyan/.local/lib/python3.8/site-packages (from torch) (12.1.0.106)\n",
      "Requirement already satisfied: nvidia-nccl-cu12==2.20.5 in /home/jovyan/.local/lib/python3.8/site-packages (from torch) (2.20.5)\n",
      "Requirement already satisfied: nvidia-nvtx-cu12==12.1.105 in /home/jovyan/.local/lib/python3.8/site-packages (from torch) (12.1.105)\n",
      "Requirement already satisfied: triton==3.0.0 in /home/jovyan/.local/lib/python3.8/site-packages (from torch) (3.0.0)\n",
      "Requirement already satisfied: nvidia-nvjitlink-cu12 in /home/jovyan/.local/lib/python3.8/site-packages (from nvidia-cusolver-cu12==11.4.5.107->torch) (12.8.61)\n",
      "Requirement already satisfied: absl-py>=1.0.0 in /usr/local/lib/python3.8/dist-packages (from tensorflow) (2.1.0)\n",
      "Requirement already satisfied: astunparse>=1.6.0 in /usr/local/lib/python3.8/dist-packages (from tensorflow) (1.6.3)\n",
      "Requirement already satisfied: flatbuffers>=2.0 in /usr/local/lib/python3.8/dist-packages (from tensorflow) (24.3.25)\n",
      "Requirement already satisfied: gast<=0.4.0,>=0.2.1 in /usr/local/lib/python3.8/dist-packages (from tensorflow) (0.4.0)\n",
      "Requirement already satisfied: google-pasta>=0.1.1 in /usr/local/lib/python3.8/dist-packages (from tensorflow) (0.2.0)\n",
      "Requirement already satisfied: grpcio<2.0,>=1.24.3 in /usr/local/lib/python3.8/dist-packages (from tensorflow) (1.62.2)\n",
      "Requirement already satisfied: h5py>=2.9.0 in /usr/local/lib/python3.8/dist-packages (from tensorflow) (3.11.0)\n",
      "Requirement already satisfied: keras<2.12,>=2.11.0 in /usr/local/lib/python3.8/dist-packages (from tensorflow) (2.11.0)\n",
      "Requirement already satisfied: libclang>=13.0.0 in /usr/local/lib/python3.8/dist-packages (from tensorflow) (18.1.1)\n",
      "Requirement already satisfied: opt-einsum>=2.3.2 in /usr/local/lib/python3.8/dist-packages (from tensorflow) (3.3.0)\n",
      "Requirement already satisfied: protobuf<3.20,>=3.9.2 in /home/jovyan/.local/lib/python3.8/site-packages (from tensorflow) (3.19.6)\n",
      "Requirement already satisfied: setuptools in /usr/local/lib/python3.8/dist-packages (from tensorflow) (69.5.1)\n",
      "Requirement already satisfied: six>=1.12.0 in /usr/lib/python3/dist-packages (from tensorflow) (1.14.0)\n",
      "Requirement already satisfied: tensorboard<2.12,>=2.11 in /usr/local/lib/python3.8/dist-packages (from tensorflow) (2.11.2)\n",
      "Requirement already satisfied: tensorflow-estimator<2.12,>=2.11.0 in /usr/local/lib/python3.8/dist-packages (from tensorflow) (2.11.0)\n",
      "Requirement already satisfied: termcolor>=1.1.0 in /usr/local/lib/python3.8/dist-packages (from tensorflow) (2.4.0)\n",
      "Requirement already satisfied: wrapt>=1.11.0 in /usr/local/lib/python3.8/dist-packages (from tensorflow) (1.16.0)\n",
      "Requirement already satisfied: tensorflow-io-gcs-filesystem>=0.23.1 in /usr/local/lib/python3.8/dist-packages (from tensorflow) (0.34.0)\n",
      "Requirement already satisfied: pyarrow>=15.0.0 in /home/jovyan/.local/lib/python3.8/site-packages (from datasets) (17.0.0)\n",
      "Requirement already satisfied: dill<0.3.9,>=0.3.0 in /usr/local/lib/python3.8/dist-packages (from datasets) (0.3.8)\n",
      "Requirement already satisfied: xxhash in /home/jovyan/.local/lib/python3.8/site-packages (from datasets) (3.5.0)\n",
      "Requirement already satisfied: multiprocess<0.70.17 in /home/jovyan/.local/lib/python3.8/site-packages (from datasets) (0.70.16)\n",
      "Requirement already satisfied: aiohttp in /usr/local/lib/python3.8/dist-packages (from datasets) (3.9.5)\n",
      "Requirement already satisfied: contourpy>=1.0.1 in /usr/local/lib/python3.8/dist-packages (from matplotlib) (1.1.1)\n",
      "Requirement already satisfied: cycler>=0.10 in /usr/lib/python3/dist-packages (from matplotlib) (0.10.0)\n",
      "Requirement already satisfied: fonttools>=4.22.0 in /usr/local/lib/python3.8/dist-packages (from matplotlib) (4.51.0)\n",
      "Requirement already satisfied: kiwisolver>=1.0.1 in /usr/lib/python3/dist-packages (from matplotlib) (1.0.1)\n",
      "Requirement already satisfied: pillow>=6.2.0 in /usr/local/lib/python3.8/dist-packages (from matplotlib) (10.3.0)\n",
      "Requirement already satisfied: pyparsing>=2.3.1 in /usr/local/lib/python3.8/dist-packages (from matplotlib) (3.1.2)\n",
      "Requirement already satisfied: importlib-resources>=3.2.0 in /usr/local/lib/python3.8/dist-packages (from matplotlib) (6.4.0)\n",
      "Requirement already satisfied: wheel<1.0,>=0.23.0 in /usr/local/lib/python3.8/dist-packages (from astunparse>=1.6.0->tensorflow) (0.43.0)\n",
      "Requirement already satisfied: aiosignal>=1.1.2 in /usr/local/lib/python3.8/dist-packages (from aiohttp->datasets) (1.3.1)\n",
      "Requirement already satisfied: attrs>=17.3.0 in /usr/local/lib/python3.8/dist-packages (from aiohttp->datasets) (23.2.0)\n",
      "Requirement already satisfied: frozenlist>=1.1.1 in /usr/local/lib/python3.8/dist-packages (from aiohttp->datasets) (1.4.1)\n",
      "Requirement already satisfied: multidict<7.0,>=4.5 in /usr/local/lib/python3.8/dist-packages (from aiohttp->datasets) (6.0.5)\n",
      "Requirement already satisfied: yarl<2.0,>=1.0 in /usr/local/lib/python3.8/dist-packages (from aiohttp->datasets) (1.9.4)\n",
      "Requirement already satisfied: async-timeout<5.0,>=4.0 in /usr/local/lib/python3.8/dist-packages (from aiohttp->datasets) (4.0.3)\n",
      "Requirement already satisfied: zipp>=3.1.0 in /usr/local/lib/python3.8/dist-packages (from importlib-resources>=3.2.0->matplotlib) (3.18.1)\n",
      "Requirement already satisfied: charset-normalizer<4,>=2 in /usr/local/lib/python3.8/dist-packages (from requests->transformers) (3.3.2)\n",
      "Requirement already satisfied: idna<4,>=2.5 in /usr/lib/python3/dist-packages (from requests->transformers) (2.8)\n",
      "Requirement already satisfied: urllib3<3,>=1.21.1 in /usr/lib/python3/dist-packages (from requests->transformers) (1.25.8)\n",
      "Requirement already satisfied: certifi>=2017.4.17 in /usr/lib/python3/dist-packages (from requests->transformers) (2019.11.28)\n",
      "Requirement already satisfied: google-auth<3,>=1.6.3 in /usr/local/lib/python3.8/dist-packages (from tensorboard<2.12,>=2.11->tensorflow) (2.29.0)\n",
      "Requirement already satisfied: google-auth-oauthlib<0.5,>=0.4.1 in /usr/local/lib/python3.8/dist-packages (from tensorboard<2.12,>=2.11->tensorflow) (0.4.6)\n",
      "Requirement already satisfied: markdown>=2.6.8 in /usr/local/lib/python3.8/dist-packages (from tensorboard<2.12,>=2.11->tensorflow) (3.6)\n",
      "Requirement already satisfied: tensorboard-data-server<0.7.0,>=0.6.0 in /usr/local/lib/python3.8/dist-packages (from tensorboard<2.12,>=2.11->tensorflow) (0.6.1)\n",
      "Requirement already satisfied: tensorboard-plugin-wit>=1.6.0 in /usr/local/lib/python3.8/dist-packages (from tensorboard<2.12,>=2.11->tensorflow) (1.8.1)\n",
      "Requirement already satisfied: werkzeug>=1.0.1 in /usr/local/lib/python3.8/dist-packages (from tensorboard<2.12,>=2.11->tensorflow) (3.0.2)\n",
      "Requirement already satisfied: MarkupSafe>=2.0 in /usr/local/lib/python3.8/dist-packages (from jinja2->torch) (2.1.5)\n",
      "Requirement already satisfied: mpmath>=0.19 in /usr/local/lib/python3.8/dist-packages (from sympy->torch) (1.3.0)\n",
      "Requirement already satisfied: cachetools<6.0,>=2.0.0 in /usr/local/lib/python3.8/dist-packages (from google-auth<3,>=1.6.3->tensorboard<2.12,>=2.11->tensorflow) (5.3.3)\n",
      "Requirement already satisfied: pyasn1-modules>=0.2.1 in /usr/lib/python3/dist-packages (from google-auth<3,>=1.6.3->tensorboard<2.12,>=2.11->tensorflow) (0.2.1)\n",
      "Requirement already satisfied: rsa<5,>=3.1.4 in /usr/local/lib/python3.8/dist-packages (from google-auth<3,>=1.6.3->tensorboard<2.12,>=2.11->tensorflow) (4.9)\n",
      "Requirement already satisfied: requests-oauthlib>=0.7.0 in /usr/local/lib/python3.8/dist-packages (from google-auth-oauthlib<0.5,>=0.4.1->tensorboard<2.12,>=2.11->tensorflow) (2.0.0)\n",
      "Requirement already satisfied: importlib-metadata>=4.4 in /usr/local/lib/python3.8/dist-packages (from markdown>=2.6.8->tensorboard<2.12,>=2.11->tensorflow) (7.1.0)\n",
      "Requirement already satisfied: oauthlib>=3.0.0 in /usr/local/lib/python3.8/dist-packages (from requests-oauthlib>=0.7.0->google-auth-oauthlib<0.5,>=0.4.1->tensorboard<2.12,>=2.11->tensorflow) (3.2.2)\n",
      "Requirement already satisfied: pyasn1>=0.1.3 in /usr/lib/python3/dist-packages (from rsa<5,>=3.1.4->google-auth<3,>=1.6.3->tensorboard<2.12,>=2.11->tensorflow) (0.4.2)\n",
      "\n",
      "\u001b[1m[\u001b[0m\u001b[34;49mnotice\u001b[0m\u001b[1;39;49m]\u001b[0m\u001b[39;49m A new release of pip is available: \u001b[0m\u001b[31;49m24.0\u001b[0m\u001b[39;49m -> \u001b[0m\u001b[32;49m25.0\u001b[0m\n",
      "\u001b[1m[\u001b[0m\u001b[34;49mnotice\u001b[0m\u001b[1;39;49m]\u001b[0m\u001b[39;49m To update, run: \u001b[0m\u001b[32;49mpython -m pip install --upgrade pip\u001b[0m\n"
     ]
    }
   ],
   "source": [
    "!pip install pandas numpy scikit-learn transformers torch lightgbm xgboost tensorflow  datasets seaborn matplotlib"
   ]
  },
  {
   "cell_type": "markdown",
   "id": "7e540678-ac87-452e-b3e8-3bb89a4ac179",
   "metadata": {
    "tags": [],
    "user_expressions": []
   },
   "source": [
    "### Import libraies"
   ]
  },
  {
   "cell_type": "code",
   "execution_count": 1,
   "id": "650efe6b-342c-46c7-b490-e60fc25c9c68",
   "metadata": {
    "tags": []
   },
   "outputs": [
    {
     "name": "stderr",
     "output_type": "stream",
     "text": [
      "2025-01-30 03:06:25.481546: I tensorflow/core/platform/cpu_feature_guard.cc:193] This TensorFlow binary is optimized with oneAPI Deep Neural Network Library (oneDNN) to use the following CPU instructions in performance-critical operations:  AVX2 AVX512F AVX512_VNNI FMA\n",
      "To enable them in other operations, rebuild TensorFlow with the appropriate compiler flags.\n",
      "2025-01-30 03:06:25.641698: I tensorflow/core/util/port.cc:104] oneDNN custom operations are on. You may see slightly different numerical results due to floating-point round-off errors from different computation orders. To turn them off, set the environment variable `TF_ENABLE_ONEDNN_OPTS=0`.\n",
      "2025-01-30 03:06:26.680619: W tensorflow/compiler/xla/stream_executor/platform/default/dso_loader.cc:64] Could not load dynamic library 'libnvinfer.so.7'; dlerror: libnvinfer.so.7: cannot open shared object file: No such file or directory; LD_LIBRARY_PATH: /usr/local/lib:/usr/local/nvidia/lib:/usr/local/nvidia/lib64\n",
      "2025-01-30 03:06:26.680717: W tensorflow/compiler/xla/stream_executor/platform/default/dso_loader.cc:64] Could not load dynamic library 'libnvinfer_plugin.so.7'; dlerror: libnvinfer_plugin.so.7: cannot open shared object file: No such file or directory; LD_LIBRARY_PATH: /usr/local/lib:/usr/local/nvidia/lib:/usr/local/nvidia/lib64\n",
      "2025-01-30 03:06:26.680723: W tensorflow/compiler/tf2tensorrt/utils/py_utils.cc:38] TF-TRT Warning: Cannot dlopen some TensorRT libraries. If you would like to use Nvidia GPU with TensorRT, please make sure the missing libraries mentioned above are installed properly.\n"
     ]
    }
   ],
   "source": [
    "import pandas as pd\n",
    "import numpy as np\n",
    "import seaborn as sns\n",
    "import matplotlib.pyplot as plt\n",
    "from sklearn.utils import resample\n",
    "from sklearn.model_selection import train_test_split\n",
    "from sklearn.preprocessing import LabelEncoder, OneHotEncoder\n",
    "from sklearn.metrics import classification_report, ndcg_score, f1_score, precision_score, recall_score, accuracy_score, confusion_matrix\n",
    "from transformers import BertTokenizer, BertModel\n",
    "import torch\n",
    "import lightgbm as lgb\n",
    "import xgboost as xgb\n",
    "import tensorflow as tf\n",
    "from sentence_transformers import SentenceTransformer\n",
    "from tensorflow.keras.models import Sequential\n",
    "from tensorflow.keras.layers import Embedding, LSTM, Dense, Dropout\n"
   ]
  },
  {
   "cell_type": "markdown",
   "id": "3923288d-cb59-4df8-8e49-8b19e3a2a89c",
   "metadata": {
    "user_expressions": []
   },
   "source": [
    "### Load Dataset"
   ]
  },
  {
   "cell_type": "code",
   "execution_count": 2,
   "id": "1a25acce-2431-428c-bce1-7c16aeb5a619",
   "metadata": {
    "tags": []
   },
   "outputs": [
    {
     "name": "stdout",
     "output_type": "stream",
     "text": [
      "Train size: 36821, Validation size: 5260, Test size: 10521\n"
     ]
    }
   ],
   "source": [
    "# Load the dataset\n",
    "file_path = \"/home/jovyan/ML2/train.csv\"\n",
    "data = pd.read_csv(file_path)\n",
    "\n",
    "# Check for null values and drop them\n",
    "data = data.dropna()\n",
    "\n",
    "# Split into train, validation, and test sets\n",
    "train_data, temp_data = train_test_split(data, test_size=0.3, random_state=45)\n",
    "val_data, test_data = train_test_split(temp_data, test_size=2/3, random_state=45)\n",
    "\n",
    "print(f\"Train size: {len(train_data)}, Validation size: {len(val_data)}, Test size: {len(test_data)}\")\n"
   ]
  },
  {
   "cell_type": "markdown",
   "id": "b517d35d-4b36-4f46-a4df-c34408542a47",
   "metadata": {
    "user_expressions": []
   },
   "source": [
    "### Class imbalances "
   ]
  },
  {
   "cell_type": "code",
   "execution_count": 3,
   "id": "a28e55af-90c5-4722-a8a2-f9e875056e89",
   "metadata": {
    "tags": []
   },
   "outputs": [],
   "source": [
    "# Balance training data using oversampling\n",
    "train_majority = train_data[train_data[\"Priority\"] == train_data[\"Priority\"].value_counts().idxmax()]\n",
    "train_minority = train_data[train_data[\"Priority\"] != train_data[\"Priority\"].value_counts().idxmax()]\n",
    "balanced_train_data = pd.concat([\n",
    "    train_majority,\n",
    "    resample(train_minority, replace=True, n_samples=len(train_majority), random_state=42)\n",
    "])\n",
    "train_data = balanced_train_data.sample(frac=1, random_state=42).reset_index(drop=True)"
   ]
  },
  {
   "cell_type": "code",
   "execution_count": 4,
   "id": "8c109d6a-76c6-4e1f-8dbf-2d32f35aa51c",
   "metadata": {
    "tags": []
   },
   "outputs": [
    {
     "name": "stdout",
     "output_type": "stream",
     "text": [
      "Train size: 43546, Validation size: 5260, Test size: 10521\n"
     ]
    }
   ],
   "source": [
    "print(f\"Train size: {len(train_data)}, Validation size: {len(val_data)}, Test size: {len(test_data)}\")"
   ]
  },
  {
   "cell_type": "markdown",
   "id": "4792b09c-e196-48e8-9b21-e30b2eaaba70",
   "metadata": {
    "tags": [],
    "user_expressions": []
   },
   "source": [
    "### Data Preprocessing"
   ]
  },
  {
   "cell_type": "code",
   "execution_count": 5,
   "id": "b620ae9e-cac0-40c7-9302-651ab57e5978",
   "metadata": {
    "tags": []
   },
   "outputs": [],
   "source": [
    "# Encode target variable\n",
    "label_encoder = LabelEncoder()\n",
    "train_data['Priority'] = label_encoder.fit_transform(train_data['Priority'])\n",
    "val_data['Priority'] = label_encoder.transform(val_data['Priority'])\n",
    "test_data['Priority'] = label_encoder.transform(test_data['Priority'])"
   ]
  },
  {
   "cell_type": "code",
   "execution_count": 6,
   "id": "73ebbe78-070b-4b0b-b11e-bd650631c249",
   "metadata": {
    "tags": []
   },
   "outputs": [],
   "source": [
    "# Combine Title and Description into a single Text column\n",
    "TEXT_COLUMNS = ['Title', 'Description']\n",
    "train_data['Text'] = train_data[TEXT_COLUMNS].apply(lambda x: ' '.join(x), axis=1)\n",
    "val_data['Text'] = val_data[TEXT_COLUMNS].apply(lambda x: ' '.join(x), axis=1)\n",
    "test_data['Text'] = test_data[TEXT_COLUMNS].apply(lambda x: ' '.join(x), axis=1)"
   ]
  },
  {
   "cell_type": "code",
   "execution_count": 7,
   "id": "1ab498aa-f1d3-4ecb-b465-abf7e366491a",
   "metadata": {
    "tags": []
   },
   "outputs": [
    {
     "name": "stderr",
     "output_type": "stream",
     "text": [
      "/usr/local/lib/python3.8/dist-packages/sklearn/preprocessing/_encoders.py:975: FutureWarning: `sparse` was renamed to `sparse_output` in version 1.2 and will be removed in 1.4. `sparse_output` is ignored unless you leave `sparse` to its default value.\n",
      "  warnings.warn(\n"
     ]
    }
   ],
   "source": [
    "# One-hot encode categorical columns\n",
    "CAT_COLUMNS = ['Component', 'Status', 'Resolution']\n",
    "\n",
    "encoder = OneHotEncoder(sparse=False, handle_unknown='ignore')\n",
    "encoder.fit(train_data[CAT_COLUMNS])\n",
    "\n",
    "train_cat_encoded = encoder.transform(train_data[CAT_COLUMNS])\n",
    "val_cat_encoded = encoder.transform(val_data[CAT_COLUMNS])\n",
    "test_cat_encoded = encoder.transform(test_data[CAT_COLUMNS])"
   ]
  },
  {
   "cell_type": "markdown",
   "id": "4f8f2ce5-fcea-40c4-a510-0692808fa359",
   "metadata": {
    "user_expressions": []
   },
   "source": [
    "### Text Embeddings with BERT"
   ]
  },
  {
   "cell_type": "code",
   "execution_count": 8,
   "id": "abc0dd05-1597-498c-8ab2-17e835e5dfc2",
   "metadata": {
    "tags": []
   },
   "outputs": [],
   "source": [
    "# Load BERT tokenizer and model\n",
    "tokenizer = BertTokenizer.from_pretrained('bert-base-uncased')\n",
    "model = BertModel.from_pretrained('bert-base-uncased')\n",
    "\n",
    "# Generate embeddings for text data\n",
    "def get_text_embeddings(texts, tokenizer, model, max_len=128):\n",
    "    inputs = tokenizer(texts, padding=True, truncation=True, max_length=max_len, return_tensors=\"pt\")\n",
    "    with torch.no_grad():\n",
    "        outputs = model(**inputs)\n",
    "    return outputs.last_hidden_state.mean(dim=1).numpy()\n"
   ]
  },
  {
   "cell_type": "code",
   "execution_count": 13,
   "id": "2a860285-7e4b-4071-bc81-19ceddd35456",
   "metadata": {
    "tags": []
   },
   "outputs": [],
   "source": [
    "train_text_embeddings = get_text_embeddings(train_data['Text'].tolist(), tokenizer, model)\n",
    "val_text_embeddings = get_text_embeddings(val_data['Text'].tolist(), tokenizer, model)\n",
    "test_text_embeddings = get_text_embeddings(test_data['Text'].tolist(), tokenizer, model)"
   ]
  },
  {
   "cell_type": "code",
   "execution_count": 17,
   "id": "e5f34580-c224-4855-98ae-5f54d2b010b0",
   "metadata": {
    "tags": []
   },
   "outputs": [],
   "source": [
    "# Save as NumPy arrays\n",
    "np.save('train_text_embeddings.npy', train_text_embeddings)\n",
    "np.save('val_text_embeddings.npy', val_text_embeddings)\n",
    "np.save('test_text_embeddings.npy', test_text_embeddings)\n"
   ]
  },
  {
   "cell_type": "code",
   "execution_count": 9,
   "id": "34d39a30-8a78-483a-9f36-fab0674e7bcb",
   "metadata": {
    "tags": []
   },
   "outputs": [],
   "source": [
    "# Load the saved embeddings\n",
    "train_text_embeddings = np.load('train_text_embeddings.npy')\n",
    "val_text_embeddings = np.load('val_text_embeddings.npy')\n",
    "test_text_embeddings = np.load('test_text_embeddings.npy')"
   ]
  },
  {
   "cell_type": "markdown",
   "id": "429e36e3-789b-4d07-9074-d7eb20345f17",
   "metadata": {
    "user_expressions": []
   },
   "source": [
    "### Trying TF-IDF here"
   ]
  },
  {
   "cell_type": "code",
   "execution_count": 37,
   "id": "4980d4ec-d069-4197-a5f5-16464ab2671f",
   "metadata": {
    "tags": []
   },
   "outputs": [],
   "source": [
    "from sklearn.feature_extraction.text import TfidfVectorizer\n",
    "from sklearn.preprocessing import StandardScaler\n",
    "\n",
    "#  TF-IDF Feature Extraction\n",
    "tfidf = TfidfVectorizer(max_features=100)  # Extract 100 useful word features\n",
    "train_tfidf_features = tfidf.fit_transform(train_data['Text']).toarray()\n",
    "val_tfidf_features = tfidf.transform(val_data['Text']).toarray()\n",
    "test_tfidf_features = tfidf.transform(test_data['Text']).toarray()\n"
   ]
  },
  {
   "cell_type": "markdown",
   "id": "93f5620a-4076-481b-8ee2-bda9c423d375",
   "metadata": {
    "user_expressions": []
   },
   "source": [
    "### Combine Features"
   ]
  },
  {
   "cell_type": "code",
   "execution_count": 41,
   "id": "acc7e038-fd0b-485f-9e7a-0823a4906fef",
   "metadata": {
    "tags": []
   },
   "outputs": [
    {
     "name": "stdout",
     "output_type": "stream",
     "text": [
      "train_text_embeddings shape: (43546, 768)\n",
      "train_cat_encoded shape: (43546, 182)\n",
      "val_text_embeddings shape: (5260, 768)\n",
      "val_cat_encoded shape: (5260, 182)\n",
      "test_text_embeddings shape: (10521, 768)\n",
      "test_cat_encoded shape: (10521, 182)\n"
     ]
    }
   ],
   "source": [
    "# Checking if the array sizes are same\n",
    "print(f\"train_text_embeddings shape: {train_text_embeddings.shape}\")\n",
    "print(f\"train_cat_encoded shape: {train_cat_encoded.shape}\")\n",
    "print(f\"val_text_embeddings shape: {val_text_embeddings.shape}\")\n",
    "print(f\"val_cat_encoded shape: {val_cat_encoded.shape}\")\n",
    "print(f\"test_text_embeddings shape: {test_text_embeddings.shape}\")\n",
    "print(f\"test_cat_encoded shape: {test_cat_encoded.shape}\")"
   ]
  },
  {
   "cell_type": "code",
   "execution_count": 42,
   "id": "0c41f6ca-9667-4c36-860c-c12d5c1cf6bb",
   "metadata": {
    "tags": []
   },
   "outputs": [
    {
     "name": "stdout",
     "output_type": "stream",
     "text": [
      "Final Feature Shapes: (43546, 1050) (5260, 1050) (10521, 1050)\n"
     ]
    }
   ],
   "source": [
    "# Merge All Features\n",
    "X_train = np.hstack([train_text_embeddings, train_tfidf_features, train_cat_encoded])\n",
    "X_val = np.hstack([val_text_embeddings, val_tfidf_features, val_cat_encoded])\n",
    "X_test = np.hstack([test_text_embeddings, test_tfidf_features, test_cat_encoded])\n",
    "\n",
    "# Print shape of features for confirmation\n",
    "print(\"Final Feature Shapes:\", X_train.shape, X_val.shape, X_test.shape)\n",
    "\n",
    "y_train = train_data['Priority']\n",
    "y_val = val_data['Priority']\n",
    "y_test = test_data['Priority']"
   ]
  },
  {
   "cell_type": "markdown",
   "id": "83aef65f-31e9-472d-8997-8e1e55c5cb58",
   "metadata": {
    "tags": [],
    "user_expressions": []
   },
   "source": [
    "## Train Gradient Boosting Models"
   ]
  },
  {
   "cell_type": "markdown",
   "id": "1e076b07-bf01-4d67-9d47-c8bb499c55ff",
   "metadata": {
    "tags": [],
    "user_expressions": []
   },
   "source": [
    "### Train XGB Model"
   ]
  },
  {
   "cell_type": "code",
   "execution_count": 43,
   "id": "8f7d8b75-24da-41d0-a507-3d06a6563c34",
   "metadata": {
    "tags": []
   },
   "outputs": [
    {
     "name": "stderr",
     "output_type": "stream",
     "text": [
      "/usr/local/lib/python3.8/dist-packages/xgboost/sklearn.py:889: UserWarning: `early_stopping_rounds` in `fit` method is deprecated for better compatibility with scikit-learn, use `early_stopping_rounds` in constructor or`set_params` instead.\n",
      "  warnings.warn(\n"
     ]
    },
    {
     "name": "stdout",
     "output_type": "stream",
     "text": [
      "[0]\tvalidation_0-mlogloss:1.39358\n",
      "[1]\tvalidation_0-mlogloss:1.27417\n",
      "[2]\tvalidation_0-mlogloss:1.19816\n",
      "[3]\tvalidation_0-mlogloss:1.14791\n",
      "[4]\tvalidation_0-mlogloss:1.11006\n",
      "[5]\tvalidation_0-mlogloss:1.08384\n",
      "[6]\tvalidation_0-mlogloss:1.06418\n",
      "[7]\tvalidation_0-mlogloss:1.04952\n",
      "[8]\tvalidation_0-mlogloss:1.03866\n",
      "[9]\tvalidation_0-mlogloss:1.03068\n",
      "[10]\tvalidation_0-mlogloss:1.02483\n",
      "[11]\tvalidation_0-mlogloss:1.01958\n",
      "[12]\tvalidation_0-mlogloss:1.01591\n",
      "[13]\tvalidation_0-mlogloss:1.01315\n",
      "[14]\tvalidation_0-mlogloss:1.01104\n",
      "[15]\tvalidation_0-mlogloss:1.00905\n",
      "[16]\tvalidation_0-mlogloss:1.00659\n",
      "[17]\tvalidation_0-mlogloss:1.00556\n",
      "[18]\tvalidation_0-mlogloss:1.00613\n",
      "[19]\tvalidation_0-mlogloss:1.00521\n",
      "[20]\tvalidation_0-mlogloss:1.00526\n",
      "[21]\tvalidation_0-mlogloss:1.00417\n",
      "[22]\tvalidation_0-mlogloss:1.00364\n",
      "[23]\tvalidation_0-mlogloss:1.00305\n",
      "[24]\tvalidation_0-mlogloss:1.00250\n",
      "[25]\tvalidation_0-mlogloss:1.00149\n",
      "[26]\tvalidation_0-mlogloss:1.00148\n",
      "[27]\tvalidation_0-mlogloss:1.00117\n",
      "[28]\tvalidation_0-mlogloss:1.00125\n",
      "[29]\tvalidation_0-mlogloss:1.00084\n",
      "[30]\tvalidation_0-mlogloss:1.00115\n",
      "[31]\tvalidation_0-mlogloss:1.00094\n",
      "[32]\tvalidation_0-mlogloss:1.00066\n",
      "[33]\tvalidation_0-mlogloss:1.00053\n",
      "[34]\tvalidation_0-mlogloss:1.00140\n",
      "[35]\tvalidation_0-mlogloss:1.00198\n",
      "[36]\tvalidation_0-mlogloss:1.00182\n",
      "[37]\tvalidation_0-mlogloss:1.00156\n",
      "[38]\tvalidation_0-mlogloss:1.00078\n",
      "[39]\tvalidation_0-mlogloss:1.00104\n",
      "[40]\tvalidation_0-mlogloss:1.00186\n",
      "[41]\tvalidation_0-mlogloss:1.00195\n",
      "[42]\tvalidation_0-mlogloss:1.00241\n"
     ]
    }
   ],
   "source": [
    "# Train XGBoost\n",
    "xgb_model = xgb.XGBClassifier(eval_metric='mlogloss', use_label_encoder=False)\n",
    "xgb_model.fit(X_train, y_train, eval_set=[(X_val, y_val)], early_stopping_rounds=10)\n",
    "\n",
    "# Evaluate XGBoost\n",
    "xgb_val_predictions = xgb_model.predict(X_val)\n",
    "xgb_test_predictions = xgb_model.predict(X_test)"
   ]
  },
  {
   "cell_type": "code",
   "execution_count": 44,
   "id": "3c64aed4-0017-4553-9d6c-c8bf8ad5cae0",
   "metadata": {
    "tags": []
   },
   "outputs": [
    {
     "name": "stdout",
     "output_type": "stream",
     "text": [
      "XGBoost Validation Report:\n",
      "              precision    recall  f1-score   support\n",
      "\n",
      "           0       0.45      0.35      0.39       914\n",
      "           1       0.35      0.22      0.27       954\n",
      "           2       0.69      0.89      0.77      3017\n",
      "           3       0.52      0.06      0.11       246\n",
      "           4       0.43      0.08      0.13       129\n",
      "\n",
      "    accuracy                           0.61      5260\n",
      "   macro avg       0.49      0.32      0.33      5260\n",
      "weighted avg       0.57      0.61      0.57      5260\n",
      "\n",
      "XGBoost Test Report:\n",
      "              precision    recall  f1-score   support\n",
      "\n",
      "           0       0.45      0.38      0.41      1741\n",
      "           1       0.37      0.21      0.27      1943\n",
      "           2       0.70      0.90      0.79      6125\n",
      "           3       0.56      0.05      0.10       473\n",
      "           4       0.61      0.15      0.25       239\n",
      "\n",
      "    accuracy                           0.63     10521\n",
      "   macro avg       0.54      0.34      0.36     10521\n",
      "weighted avg       0.59      0.63      0.59     10521\n",
      "\n"
     ]
    }
   ],
   "source": [
    "print(\"XGBoost Validation Report:\")\n",
    "print(classification_report(y_val, xgb_val_predictions))\n",
    "print(\"XGBoost Test Report:\")\n",
    "print(classification_report(y_test, xgb_test_predictions))"
   ]
  },
  {
   "cell_type": "markdown",
   "id": "1a3a5771-550b-473a-b042-646ddab2290f",
   "metadata": {
    "tags": [],
    "user_expressions": []
   },
   "source": [
    "### Train LGBM Model"
   ]
  },
  {
   "cell_type": "code",
   "execution_count": 45,
   "id": "34b37494-8616-4262-bf99-af6782a7c479",
   "metadata": {
    "tags": []
   },
   "outputs": [
    {
     "name": "stdout",
     "output_type": "stream",
     "text": [
      "[LightGBM] [Info] Auto-choosing col-wise multi-threading, the overhead of testing was 0.117766 seconds.\n",
      "You can set `force_col_wise=true` to remove the overhead.\n",
      "[LightGBM] [Info] Total Bins 221569\n",
      "[LightGBM] [Info] Number of data points in the train set: 43546, number of used features: 983\n",
      "[LightGBM] [Info] Start training from score -1.582388\n",
      "[LightGBM] [Info] Start training from score -1.533747\n",
      "[LightGBM] [Info] Start training from score -0.693147\n",
      "[LightGBM] [Info] Start training from score -2.951398\n",
      "[LightGBM] [Info] Start training from score -3.629718\n"
     ]
    }
   ],
   "source": [
    "# Train LightGBM\n",
    "lgbm_model = lgb.LGBMClassifier()\n",
    "lgbm_model.fit(X_train, y_train, eval_set=[(X_val, y_val)])\n",
    "\n",
    "# Evaluate LightGBM\n",
    "lgbm_val_predictions = lgbm_model.predict(X_val)\n",
    "lgbm_test_predictions = lgbm_model.predict(X_test)"
   ]
  },
  {
   "cell_type": "code",
   "execution_count": 46,
   "id": "503b9e9a-b356-458a-b794-18ffb1f8a0a6",
   "metadata": {
    "tags": []
   },
   "outputs": [
    {
     "name": "stdout",
     "output_type": "stream",
     "text": [
      "LGBMBoost Validation Report:\n",
      "              precision    recall  f1-score   support\n",
      "\n",
      "           0       0.46      0.36      0.40       914\n",
      "           1       0.35      0.21      0.27       954\n",
      "           2       0.69      0.90      0.78      3017\n",
      "           3       0.50      0.07      0.12       246\n",
      "           4       0.50      0.10      0.17       129\n",
      "\n",
      "    accuracy                           0.62      5260\n",
      "   macro avg       0.50      0.33      0.35      5260\n",
      "weighted avg       0.58      0.62      0.58      5260\n",
      "\n",
      "LGBMBoost Test Report:\n",
      "              precision    recall  f1-score   support\n",
      "\n",
      "           0       0.45      0.38      0.41      1741\n",
      "           1       0.37      0.20      0.26      1943\n",
      "           2       0.70      0.90      0.79      6125\n",
      "           3       0.57      0.06      0.10       473\n",
      "           4       0.57      0.16      0.25       239\n",
      "\n",
      "    accuracy                           0.63     10521\n",
      "   macro avg       0.53      0.34      0.36     10521\n",
      "weighted avg       0.59      0.63      0.59     10521\n",
      "\n"
     ]
    }
   ],
   "source": [
    "print(\"LGBMBoost Validation Report:\")\n",
    "print(classification_report(y_val, lgbm_val_predictions))\n",
    "print(\"LGBMBoost Test Report:\")\n",
    "print(classification_report(y_test, lgbm_test_predictions))"
   ]
  },
  {
   "cell_type": "markdown",
   "id": "879966af-07ec-453a-a2df-613b7deb562b",
   "metadata": {
    "tags": [],
    "user_expressions": []
   },
   "source": [
    "## Train LambdaMART"
   ]
  },
  {
   "cell_type": "code",
   "execution_count": 51,
   "id": "abb9f799-9ef0-48f5-a62a-fee57cf71d2e",
   "metadata": {
    "tags": []
   },
   "outputs": [],
   "source": [
    "# Prepare LightGBM datasets\n",
    "train_group = [len(y_train)]  # Single group for the dataset\n",
    "val_group = [len(y_val)]\n",
    "\n",
    "train_lgb = lgb.Dataset(X_train, label=y_train, group=train_group)\n",
    "val_lgb = lgb.Dataset(X_val, label=y_val, group=val_group, reference=train_lgb)\n"
   ]
  },
  {
   "cell_type": "code",
   "execution_count": 52,
   "id": "f49cc396-8d53-466b-8287-737fd25e771b",
   "metadata": {
    "tags": []
   },
   "outputs": [],
   "source": [
    "# Simulate smaller group sizes (e.g., each group contains 500 samples)\n",
    "group_size = 500\n",
    "train_group = [group_size] * (len(y_train) // group_size)\n",
    "val_group = [group_size] * (len(y_val) // group_size)\n",
    "\n",
    "# Add remainder to the last group, if any\n",
    "if len(y_train) % group_size > 0:\n",
    "    train_group.append(len(y_train) % group_size)\n",
    "if len(y_val) % group_size > 0:\n",
    "    val_group.append(len(y_val) % group_size)\n",
    "\n",
    "# Update LightGBM dataset\n",
    "train_lgb = lgb.Dataset(X_train, label=y_train, group=train_group)\n",
    "val_lgb = lgb.Dataset(X_val, label=y_val, group=val_group, reference=train_lgb)"
   ]
  },
  {
   "cell_type": "code",
   "execution_count": 53,
   "id": "6289a9a8-682c-406c-8e43-583bf6cb28b5",
   "metadata": {
    "tags": []
   },
   "outputs": [
    {
     "name": "stdout",
     "output_type": "stream",
     "text": [
      "[LightGBM] [Info] Auto-choosing col-wise multi-threading, the overhead of testing was 0.125841 seconds.\n",
      "You can set `force_col_wise=true` to remove the overhead.\n",
      "[LightGBM] [Info] Total Bins 221569\n",
      "[LightGBM] [Info] Number of data points in the train set: 43546, number of used features: 983\n",
      "Training until validation scores don't improve for 10 rounds\n",
      "Early stopping, best iteration is:\n",
      "[8]\ttraining's ndcg@1: 0.927273\ttraining's ndcg@2: 0.86397\ttraining's ndcg@3: 0.825215\ttraining's ndcg@4: 0.792586\ttraining's ndcg@5: 0.769078\tvalid_1's ndcg@1: 0.636364\tvalid_1's ndcg@2: 0.551959\tvalid_1's ndcg@3: 0.573186\tvalid_1's ndcg@4: 0.511527\tvalid_1's ndcg@5: 0.502312\n"
     ]
    }
   ],
   "source": [
    "# LambdaMART parameters\n",
    "\n",
    "params = {\n",
    "    \"objective\": \"lambdarank\",\n",
    "    \"metric\": \"ndcg\",\n",
    "    \"learning_rate\": 0.05,  # Lower learning rate for better generalization\n",
    "    \"num_leaves\": 64,       # Balanced complexity\n",
    "    \"min_data_in_leaf\": 20,  # Prevents overfitting\n",
    "    \"lambdarank_truncation_level\": 10,\n",
    "    \"early_stopping_round\": 10  # Use this parameter for early stopping\n",
    "}\n",
    "\n",
    "# Train LambdaMART model\n",
    "lgb_model = lgb.train(params, train_lgb, valid_sets=[train_lgb, val_lgb])\n"
   ]
  },
  {
   "cell_type": "code",
   "execution_count": 54,
   "id": "6e9f7f0f-4edd-4037-9176-f7d52937d7cb",
   "metadata": {
    "tags": []
   },
   "outputs": [],
   "source": [
    "# Predict rankings\n",
    "lgb_val_preds = lgb_model.predict(X_val)\n",
    "lgb_test_preds = lgb_model.predict(X_test)"
   ]
  },
  {
   "cell_type": "markdown",
   "id": "b6179e12-7359-4c80-b07e-f09decc70cd5",
   "metadata": {
    "user_expressions": []
   },
   "source": [
    "### Compute NDCG & MRR Scores"
   ]
  },
  {
   "cell_type": "code",
   "execution_count": 77,
   "id": "fd8c1738-3d7f-4aa0-b203-139dbeb60b98",
   "metadata": {
    "tags": []
   },
   "outputs": [
    {
     "name": "stdout",
     "output_type": "stream",
     "text": [
      "NDCG & MRR Before Label Conversion:\n",
      "         Model      NDCG       MRR\n",
      "0     XGBoost  0.953202  0.010902\n",
      "1    LightGBM  0.953753  0.012134\n",
      "2  LambdaMART  0.955244  0.014122\n",
      "\n",
      "Final Evaluation Results:\n",
      "       Model  F1 Score  Precision    Recall  Accuracy\n",
      "0   XGBoost  0.585871   0.589734  0.630739  0.630739\n",
      "1  LightGBM  0.586815   0.590320  0.632544  0.632544\n"
     ]
    }
   ],
   "source": [
    "from sklearn.metrics import ndcg_score\n",
    "from sklearn.preprocessing import MinMaxScaler, KBinsDiscretizer\n",
    "\n",
    "def mean_reciprocal_rank(y_true, y_pred):\n",
    "    ranks = np.argsort(np.argsort(-y_pred)) + 1  # Rank from highest to lowest\n",
    "    correct_rank_indices = np.where(y_true == max(y_true))  # Only consider highest priority P4\n",
    "    mrr_values = 1 / ranks[correct_rank_indices]\n",
    "    return np.mean(mrr_values) if len(mrr_values) > 0 else 0\n",
    "\n",
    "# Compute NDCG and MRR before label conversion\n",
    "ndcg_mrr_results = []\n",
    "for model_name, (y_true, y_pred) in {\n",
    "    \"XGBoost\": (y_test, xgb_test_predictions),\n",
    "    \"LightGBM\": (y_test, lgbm_test_predictions),\n",
    "    \"LambdaMART\": (y_test, lgb_test_preds),\n",
    "}.items():\n",
    "    ndcg = ndcg_score([y_true], [y_pred])\n",
    "    mrr = mean_reciprocal_rank(np.array(y_true), np.array(y_pred))\n",
    "    ndcg_mrr_results.append([model_name, ndcg, mrr])\n",
    "\n",
    "ndcg_mrr_df = pd.DataFrame(ndcg_mrr_results, columns=[\"Model\", \"NDCG\", \"MRR\"])\n",
    "print(\"NDCG & MRR Before Label Conversion:\\n\", ndcg_mrr_df)\n",
    "\n",
    "# Normalize scores between 0-1\n",
    "scaler = MinMaxScaler()\n",
    "lgb_test_preds_scaled = scaler.fit_transform(lgb_test_preds.reshape(-1, 1)).flatten()\n",
    "\n",
    "# Convert scores to class labels using binning\n",
    "num_classes = len(np.unique(y_test))\n",
    "binarizer = KBinsDiscretizer(n_bins=num_classes, encode='ordinal', strategy='quantile')\n",
    "lambdamart_labels = binarizer.fit_transform(lgb_test_preds_scaled.reshape(-1, 1)).astype(int)\n",
    "\n",
    "# Convert predicted scores into discrete labels\n",
    "xgb_test_labels = xgb_test_predictions.astype(int)  # XGBoost\n",
    "lgb_test_labels = lgbm_test_predictions.astype(int)  # LightGBM\n",
    "\n",
    "# Compute classification metrics after conversion\n",
    "from sklearn.metrics import f1_score, precision_score, recall_score, accuracy_score\n",
    "\n",
    "results = []\n",
    "models = {\n",
    "    \"XGBoost\": (y_test, xgb_test_labels),\n",
    "    \"LightGBM\": (y_test, lgb_test_labels),\n",
    "    \"LambdaMART\": (y_test, lambdamart_labels),\n",
    "}\n",
    "\n",
    "i = 0\n",
    "for model_name, (y_true, y_pred) in models.items():\n",
    "    \n",
    "    f1 = f1_score(y_true, y_pred, average=\"weighted\")\n",
    "    precision = precision_score(y_true, y_pred, average=\"weighted\")\n",
    "    recall = recall_score(y_true, y_pred, average=\"weighted\")\n",
    "    accuracy = accuracy_score(y_true, y_pred)\n",
    "    i = i + 1\n",
    "\n",
    "    results.append([model_name, f1, precision, recall, accuracy])\n",
    "    \n",
    "    if i == 2:\n",
    "        break\n",
    "\n",
    "\n",
    "results_df = pd.DataFrame(results, columns=[\"Model\", \"F1 Score\", \"Precision\", \"Recall\", \"Accuracy\"])\n",
    "print(\"\\nFinal Evaluation Results:\\n\", results_df)\n"
   ]
  },
  {
   "cell_type": "markdown",
   "id": "a45ac9d5-59af-4be9-9185-3bbe2b94e809",
   "metadata": {
    "tags": [],
    "user_expressions": []
   },
   "source": [
    "### Generate Confusion Matrices"
   ]
  },
  {
   "cell_type": "code",
   "execution_count": 76,
   "id": "3f0d4aac-eecd-429e-9e69-d0658e4dd13b",
   "metadata": {
    "tags": []
   },
   "outputs": [
    {
     "data": {
      "image/png": "[encoded data removed]",
      "text/plain": [
       "<Figure size 1800x500 with 4 Axes>"
      ]
     },
     "metadata": {},
     "output_type": "display_data"
    }
   ],
   "source": [
    "import seaborn as sns\n",
    "import matplotlib.pyplot as plt\n",
    "from sklearn.metrics import confusion_matrix\n",
    "\n",
    "fig, axes = plt.subplots(1, 2, figsize=(18, 5))\n",
    "\n",
    "i = 0\n",
    "for ax, (model_name, (y_true, y_pred)) in zip(axes, models.items()):\n",
    "    cm = confusion_matrix(y_true, y_pred)\n",
    "    sns.heatmap(cm, annot=True, fmt=\"d\", cmap=\"Blues\", ax=ax)\n",
    "    ax.set_title(f\"Confusion Matrix: {model_name}\")\n",
    "    ax.set_xlabel(\"Predicted Label\")\n",
    "    ax.set_ylabel(\"True Label\")\n",
    "    i = i+1\n",
    "    \n",
    "    if i == 2:\n",
    "        break\n",
    "\n",
    "plt.show()"
   ]
  },
  {
   "cell_type": "code",
   "execution_count": null,
   "id": "2fedb42d-a688-4c73-97e9-b27e50d206ba",
   "metadata": {},
   "outputs": [],
   "source": []
  }
 ],
 "metadata": {
  "kernelspec": {
   "display_name": "Python",
   "language": "python",
   "name": "python3"
  },
  "language_info": {
   "codemirror_mode": {
    "name": "ipython",
    "version": 3
   },
   "file_extension": ".py",
   "mimetype": "text/x-python",
   "name": "python",
   "nbconvert_exporter": "python",
   "pygments_lexer": "ipython3",
   "version": "3.8.10"
  }
 },
 "nbformat": 4,
 "nbformat_minor": 5
}
